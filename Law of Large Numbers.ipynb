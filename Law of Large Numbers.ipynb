{
 "cells": [
  {
   "cell_type": "code",
   "execution_count": 5,
   "metadata": {},
   "outputs": [
    {
     "data": {
      "text/plain": [
       "array([-0.99135395,  1.16413089, -0.12447278,  0.69744415,  0.11992077,\n",
       "       -0.25832287,  0.8803835 ,  0.29694316, -2.07042093, -0.28551201,\n",
       "        0.6604715 , -2.00591762,  0.50368659, -0.65421667,  0.12364906,\n",
       "        0.64301903,  1.46576043,  0.68845846, -0.11282956,  0.093012  ,\n",
       "        0.00681488,  0.92298005, -1.14462069,  0.36868975,  1.90391999,\n",
       "       -0.2816279 , -0.87055399,  0.31155152, -0.20126865,  0.0808285 ,\n",
       "       -0.10844001,  1.83323105,  1.21207958, -1.28369731, -1.48937438,\n",
       "        1.26103666, -0.55879792,  1.21893119, -2.02093387,  0.54608139,\n",
       "       -0.83304798,  1.57392855, -0.30138792,  1.05655092,  0.79779908,\n",
       "       -1.09275484, -0.04450302, -0.54979982, -1.44238688, -0.5624232 ,\n",
       "       -0.95404558,  1.1811397 ,  2.015436  ,  2.11834215, -0.42268958,\n",
       "        0.01708952, -0.1055541 , -0.39283946, -0.77941217, -0.31650716,\n",
       "       -0.16984404, -0.15515236, -0.07573097, -0.37229032, -0.07684715,\n",
       "       -0.26652561, -1.25318677,  0.07183523,  1.13248448, -0.0453608 ,\n",
       "       -0.3862816 , -0.11072118,  1.0666444 , -0.57477795, -2.05669966,\n",
       "       -0.20357675, -1.08785385,  0.51892734,  0.33094745,  0.00551559,\n",
       "        1.77627069,  0.28148279, -1.7498278 ,  1.46607849, -0.906108  ,\n",
       "        0.09002115,  0.55533353,  0.05199302,  0.96728607,  0.05144098,\n",
       "        1.87709915, -0.08095499,  0.20209379, -0.1420074 , -0.96219415,\n",
       "       -0.38795299,  1.64338177, -0.68694575,  0.91065901,  1.07944859])"
      ]
     },
     "execution_count": 5,
     "metadata": {},
     "output_type": "execute_result"
    }
   ],
   "source": [
    "import numpy as np\n",
    "from numpy.random import randn\n",
    "\n",
    "randn(100)"
   ]
  },
  {
   "cell_type": "code",
   "execution_count": 4,
   "metadata": {},
   "outputs": [],
   "source": [
    "# create a Python script that will count how many of normally distributed numbers \n",
    "#fall between -1 and 1 and divide by total quantity of N."
   ]
  },
  {
   "cell_type": "code",
   "execution_count": 92,
   "metadata": {},
   "outputs": [
    {
     "name": "stdout",
     "output_type": "stream",
     "text": [
      "68515\n",
      "0.68515\n"
     ]
    }
   ],
   "source": [
    "list1 = []\n",
    "counter = 0\n",
    "N=100000\n",
    "for i in randn(N):\n",
    "    if (i>-1 and i < 1):\n",
    "        list1.append(i)\n",
    "        counter = counter+1\n",
    "    \n",
    "print(len(list1))   \n",
    "print(counter/N)"
   ]
  }
 ],
 "metadata": {
  "kernelspec": {
   "display_name": "Python 3",
   "language": "python",
   "name": "python3"
  },
  "language_info": {
   "codemirror_mode": {
    "name": "ipython",
    "version": 3
   },
   "file_extension": ".py",
   "mimetype": "text/x-python",
   "name": "python",
   "nbconvert_exporter": "python",
   "pygments_lexer": "ipython3",
   "version": "3.6.4"
  }
 },
 "nbformat": 4,
 "nbformat_minor": 2
}
